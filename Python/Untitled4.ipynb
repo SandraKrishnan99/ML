{
 "cells": [
  {
   "cell_type": "code",
   "execution_count": 1,
   "metadata": {},
   "outputs": [
    {
     "data": {
      "text/plain": [
       "'C:\\\\Machine Learning\\\\Python'"
      ]
     },
     "execution_count": 1,
     "metadata": {},
     "output_type": "execute_result"
    }
   ],
   "source": [
    "pwd\n"
   ]
  },
  {
   "cell_type": "code",
   "execution_count": 2,
   "metadata": {},
   "outputs": [
    {
     "name": "stdout",
     "output_type": "stream",
     "text": [
      "enter:4\n",
      "1.5\n",
      "trrar\n"
     ]
    }
   ],
   "source": [
    "try:\n",
    "    #try 2\n",
    "    d=int(input(\"enter:\"))\n",
    "    g=6/d\n",
    "    print(g)\n",
    "except:\n",
    "    print(\"zero divis\")\n",
    "else:#only wen try execute\n",
    "    print(\"trrar\")"
   ]
  },
  {
   "cell_type": "code",
   "execution_count": 4,
   "metadata": {},
   "outputs": [
    {
     "name": "stdout",
     "output_type": "stream",
     "text": [
      "enter:2\n",
      "3.0\n",
      "trrar\n",
      "dtgf\n"
     ]
    }
   ],
   "source": [
    "try:\n",
    "    #try 2\n",
    "    d=int(input(\"enter:\"))\n",
    "    g=6/d\n",
    "    print(g)\n",
    "except:\n",
    "    print(\"zero divis\")\n",
    "else:#only wen try execute\n",
    "    print(\"trrar\")\n",
    "finally:\n",
    "    print(\"dtgf\")"
   ]
  },
  {
   "cell_type": "code",
   "execution_count": null,
   "metadata": {},
   "outputs": [],
   "source": []
  }
 ],
 "metadata": {
  "kernelspec": {
   "display_name": "Python 3",
   "language": "python",
   "name": "python3"
  },
  "language_info": {
   "codemirror_mode": {
    "name": "ipython",
    "version": 3
   },
   "file_extension": ".py",
   "mimetype": "text/x-python",
   "name": "python",
   "nbconvert_exporter": "python",
   "pygments_lexer": "ipython3",
   "version": "3.8.3"
  }
 },
 "nbformat": 4,
 "nbformat_minor": 4
}
