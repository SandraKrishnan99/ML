{
 "cells": [
  {
   "cell_type": "code",
   "execution_count": 1,
   "metadata": {},
   "outputs": [
    {
     "data": {
      "text/plain": [
       "'C:\\\\Machine Learning\\\\Python'"
      ]
     },
     "execution_count": 1,
     "metadata": {},
     "output_type": "execute_result"
    }
   ],
   "source": [
    "pwd"
   ]
  },
  {
   "cell_type": "markdown",
   "metadata": {},
   "source": [
    "class classname:\n",
    "    #variables or attributes\n",
    "    \n",
    "    \n",
    "    #methods\n",
    "    #findavgg():"
   ]
  },
  {
   "cell_type": "code",
   "execution_count": 3,
   "metadata": {},
   "outputs": [
    {
     "name": "stdout",
     "output_type": "stream",
     "text": [
      "This is an i7 laptop with 8 gb ram and 1tb hcd\n"
     ]
    }
   ],
   "source": [
    "class computer:\n",
    "    \n",
    "    def print(self):\n",
    "        print(\"This is an i7 laptop with 8 gb ram and 1tb hcd\")\n",
    "#################\n",
    "c1=computer()\n",
    "c1.print()"
   ]
  },
  {
   "cell_type": "code",
   "execution_count": 5,
   "metadata": {},
   "outputs": [
    {
     "name": "stdout",
     "output_type": "stream",
     "text": [
      "joy\n",
      "joyman\n"
     ]
    }
   ],
   "source": [
    "class s1:\n",
    "    def pe(self):\n",
    "        print(\"joy\")\n",
    "class s2:\n",
    "    def pe(self):\n",
    "        print(\"joyman\")\n",
    "st1=s1()\n",
    "st2=s2()\n",
    "st1.pe()\n",
    "st2.pe()"
   ]
  },
  {
   "cell_type": "code",
   "execution_count": 8,
   "metadata": {},
   "outputs": [
    {
     "name": "stdout",
     "output_type": "stream",
     "text": [
      "Object has been initialized\n",
      "This is an i7 laptop with 8 gb ram and 1tb hcd\n"
     ]
    }
   ],
   "source": [
    "class computer:\n",
    "    \n",
    "    def __init__(self):#object created then this function is initialized\n",
    "        print(\"Object has been initialized\")\n",
    "    \n",
    "    def print(self):\n",
    "        print(\"This is an i7 laptop with 8 gb ram and 1tb hcd\")\n",
    "#################\n",
    "c1=computer()\n",
    "c1.print()\n"
   ]
  },
  {
   "cell_type": "code",
   "execution_count": 17,
   "metadata": {},
   "outputs": [
    {
     "name": "stdout",
     "output_type": "stream",
     "text": [
      "Object has been initialized 2 2\n",
      "This is an i7 laptop with 8 gb ram and 1tb hcd 2 3\n"
     ]
    }
   ],
   "source": [
    "class computer:\n",
    "    \n",
    "    def __init__(self,cpu,ram):\n",
    "        self.ccpu=cpu\n",
    "        self.cram=ram\n",
    "        print(\"Object has been initialized\",self.ccpu,self.ccpu)\n",
    "    \n",
    "    def print(self):\n",
    "        print(\"This is an i7 laptop with 8 gb ram and 1tb hcd\",c1.ccpu,c1.cram)\n",
    "#################\n",
    "c1=computer(2,3)\n",
    "c1.print()\n"
   ]
  },
  {
   "cell_type": "code",
   "execution_count": 18,
   "metadata": {},
   "outputs": [
    {
     "name": "stdout",
     "output_type": "stream",
     "text": [
      "240 18\n"
     ]
    }
   ],
   "source": [
    "class vechile:\n",
    "    def __init__(self,max,milege):\n",
    "        self.mmax=max\n",
    "        self.mmilege=milege\n",
    "    def print(self):\n",
    "        print(self.mmax,self.mmilege)\n",
    "v1=vechile(240,18)\n",
    "v1.print()"
   ]
  },
  {
   "cell_type": "code",
   "execution_count": 24,
   "metadata": {},
   "outputs": [
    {
     "name": "stdout",
     "output_type": "stream",
     "text": [
      "Object has been initialized 2 2\n",
      "This is an i7 laptop with 8 gb ram and 1tb hcd 2 3\n",
      "####################\n",
      "Object has been initialized i5 i5\n",
      "This is an i7 laptop with 8 gb ram and 1tb hcd i5 4gb\n"
     ]
    },
    {
     "data": {
      "text/plain": [
       "__main__.computer"
      ]
     },
     "execution_count": 24,
     "metadata": {},
     "output_type": "execute_result"
    }
   ],
   "source": [
    "class computer:\n",
    "    \n",
    "    def __init__(self,cpu,ram):\n",
    "        self.ccpu=cpu\n",
    "        self.cram=ram\n",
    "        print(\"Object has been initialized\",self.ccpu,self.ccpu)\n",
    "    \n",
    "    def print(self):\n",
    "        print(\"This is an i7 laptop with 8 gb ram and 1tb hcd\",self.ccpu,self.cram)\n",
    "#################\n",
    "c1=computer(2,3)\n",
    "c1.print()\n",
    "print(\"#\"*20)\n",
    "c2=computer(\"i5\",\"4gb\")\n",
    "c2.print()\n",
    "c2.ccpu\n",
    "c1.ccpu\n",
    "type(c1)"
   ]
  },
  {
   "cell_type": "code",
   "execution_count": 29,
   "metadata": {},
   "outputs": [
    {
     "name": "stdout",
     "output_type": "stream",
     "text": [
      "arjun\n",
      "arjun\n"
     ]
    }
   ],
   "source": [
    "class person:\n",
    "    def __init__(self):\n",
    "        self.name=\"arjun\"\n",
    "        self.age=20\n",
    "########################\n",
    "p1=person()\n",
    "p2=person()\n",
    "print(p1.name)\n",
    "print(p2.name)"
   ]
  },
  {
   "cell_type": "code",
   "execution_count": 33,
   "metadata": {},
   "outputs": [
    {
     "name": "stdout",
     "output_type": "stream",
     "text": [
      "arjun\n",
      "20\n",
      "####################\n",
      "sachin\n",
      "20\n"
     ]
    }
   ],
   "source": [
    "class person:\n",
    "    def __init__(self):\n",
    "        self.name=\"arjun\"\n",
    "        self.age=20\n",
    "########################\n",
    "p1=person()\n",
    "print(p1.name)\n",
    "print(p1.age)\n",
    "print(\"#\"*20)\n",
    "p1.name=\"sachin\"\n",
    "print(p1.name)\n",
    "print(p1.age)\n"
   ]
  },
  {
   "cell_type": "code",
   "execution_count": 36,
   "metadata": {},
   "outputs": [
    {
     "name": "stdout",
     "output_type": "stream",
     "text": [
      "20\n",
      "20\n",
      "####################\n"
     ]
    }
   ],
   "source": [
    "class person:\n",
    "    def __init__(self):\n",
    "        self.name=\"arjun\"\n",
    "        self.age=20\n",
    "    def updateage(self):\n",
    "        self.age=25\n",
    "########################\n",
    "p1=person()\n",
    "p2=person()\n",
    "print(p1.age)\n",
    "print(p2.age)\n",
    "print(\"#\"*20)\n",
    "p1.updateage()\n",
    "p2.updateage()"
   ]
  },
  {
   "cell_type": "code",
   "execution_count": 40,
   "metadata": {},
   "outputs": [
    {
     "name": "stdout",
     "output_type": "stream",
     "text": [
      "25\n",
      "25\n"
     ]
    }
   ],
   "source": [
    "p1.updateage()\n",
    "p2.updateage()\n",
    "print(p1.age)\n",
    "print(p2.age)"
   ]
  },
  {
   "cell_type": "markdown",
   "metadata": {},
   "source": [
    "#class variable"
   ]
  },
  {
   "cell_type": "code",
   "execution_count": 44,
   "metadata": {},
   "outputs": [
    {
     "name": "stdout",
     "output_type": "stream",
     "text": [
      "Car1 8 AUDI 4\n",
      "Car2 10 BMW 4\n"
     ]
    }
   ],
   "source": [
    "class car:\n",
    "    wheels=4#class variables,common to all class objects\n",
    "    def __init__(self):\n",
    "        self.milege=10\n",
    "        self.company=\"BMW\"\n",
    "##############################\n",
    "c1=car()\n",
    "c2=car()\n",
    "c1.milege=8\n",
    "c1.company=\"AUDI\"\n",
    "print(\"Car1\",c1.milege,c1.company,car.wheels)\n",
    "print(\"Car2\",c2.milege,c2.company,c2.wheels)\n"
   ]
  },
  {
   "cell_type": "code",
   "execution_count": 45,
   "metadata": {},
   "outputs": [],
   "source": [
    "#methods\n",
    "#instance method,class methods,static method\n",
    "#instance method(which contains self)"
   ]
  },
  {
   "cell_type": "markdown",
   "metadata": {},
   "source": []
  },
  {
   "cell_type": "code",
   "execution_count": 51,
   "metadata": {},
   "outputs": [
    {
     "name": "stdout",
     "output_type": "stream",
     "text": [
      "3.0\n",
      "48.333\n"
     ]
    }
   ],
   "source": [
    "class student:\n",
    "    def __init__(self,m1,m2,m3):\n",
    "        self.mark1=m1\n",
    "        self.mark2=m2\n",
    "        self.mark3=m3\n",
    "    def avg(self):\n",
    "        avg=(self.mark1+self.mark2+self.mark3)/3\n",
    "        return avg\n",
    "s1=student(2,3,4)\n",
    "s2=student(35,46,64)\n",
    "print(s1.avg())\n",
    "print(round(s2.avg(),3))\n",
    "        "
   ]
  },
  {
   "cell_type": "code",
   "execution_count": 55,
   "metadata": {},
   "outputs": [
    {
     "name": "stdout",
     "output_type": "stream",
     "text": [
      "3.0\n",
      "Mes enginererin.....\n"
     ]
    },
    {
     "data": {
      "text/plain": [
       "'Mes enginererin.....'"
      ]
     },
     "execution_count": 55,
     "metadata": {},
     "output_type": "execute_result"
    }
   ],
   "source": [
    "class student:\n",
    "    college=\"Mes enginererin.....\"\n",
    "    def __init__(self,m1,m2,m3):\n",
    "        self.mark1=m1\n",
    "        self.mark2=m2\n",
    "        self.mark3=m3\n",
    "    def avg(self):\n",
    "        avg=(self.mark1+self.mark2+self.mark3)/3\n",
    "        return avg\n",
    "    @classmethod\n",
    "    def getclg(cls):\n",
    "        colname=cls.college\n",
    "        return colname\n",
    "s1=student(2,3,4)\n",
    "s2=student(35,46,64)\n",
    "print(s1.avg())\n",
    "print(student.getclg())\n",
    "s1.getclg()\n"
   ]
  },
  {
   "cell_type": "code",
   "execution_count": 57,
   "metadata": {},
   "outputs": [
    {
     "name": "stdout",
     "output_type": "stream",
     "text": [
      "this is a static method\n",
      "this is a static method\n"
     ]
    }
   ],
   "source": [
    "class student:\n",
    "    college=\"Mes enginererin.....\"\n",
    "    def __init__(self,m1,m2,m3):\n",
    "        self.mark1=m1\n",
    "        self.mark2=m2\n",
    "        self.mark3=m3\n",
    "    def avg(self):\n",
    "        avg=(self.mark1+self.mark2+self.mark3)/3\n",
    "        return avg\n",
    "    @classmethod\n",
    "    def getclg(cls):\n",
    "        colname=cls.college\n",
    "        return colname\n",
    "    @staticmethod\n",
    "    def getinfo():\n",
    "        print(\"this is a static method\")#not assosiated with class variables\n",
    "s1=student(2,3,4)\n",
    "s2=student(35,46,64)\n",
    "student.getinfo()\n",
    "s1.getinfo()\n",
    "\n"
   ]
  },
  {
   "cell_type": "markdown",
   "metadata": {},
   "source": [
    "#assignment"
   ]
  },
  {
   "cell_type": "code",
   "execution_count": 65,
   "metadata": {},
   "outputs": [
    {
     "name": "stdout",
     "output_type": "stream",
     "text": [
      "Sides: 3\n",
      "Checking if the angles sum is 180 or not: False\n"
     ]
    }
   ],
   "source": [
    "class triangle:\n",
    "    numberfsides=3\n",
    "    def __init__(self,angle1,angle2,angle3):\n",
    "        self.a1=angle1\n",
    "        self.a2=angle2\n",
    "        self.a3=angle3\n",
    "        \n",
    "    def checkangles(self):\n",
    "        if (self.a1+self.a2+self.a3)==180:\n",
    "            return True\n",
    "        else:\n",
    "            return False\n",
    "mytriangle=triangle(45,70,90)\n",
    "print(\"Sides:\",mytriangle.numberfsides)\n",
    "print(\"Checking if the angles sum is 180 or not:\",mytriangle.checkangles())"
   ]
  },
  {
   "cell_type": "code",
   "execution_count": null,
   "metadata": {},
   "outputs": [],
   "source": []
  }
 ],
 "metadata": {
  "kernelspec": {
   "display_name": "Python 3",
   "language": "python",
   "name": "python3"
  },
  "language_info": {
   "codemirror_mode": {
    "name": "ipython",
    "version": 3
   },
   "file_extension": ".py",
   "mimetype": "text/x-python",
   "name": "python",
   "nbconvert_exporter": "python",
   "pygments_lexer": "ipython3",
   "version": "3.8.3"
  }
 },
 "nbformat": 4,
 "nbformat_minor": 4
}
