{
 "cells": [
  {
   "cell_type": "code",
   "execution_count": 1,
   "metadata": {},
   "outputs": [
    {
     "data": {
      "text/plain": [
       "'C:\\\\Machine Learning\\\\Python'"
      ]
     },
     "execution_count": 1,
     "metadata": {},
     "output_type": "execute_result"
    }
   ],
   "source": [
    "pwd\n"
   ]
  },
  {
   "cell_type": "code",
   "execution_count": 2,
   "metadata": {},
   "outputs": [
    {
     "name": "stdout",
     "output_type": "stream",
     "text": [
      "enter:4\n",
      "1.5\n",
      "trrar\n"
     ]
    }
   ],
   "source": [
    "try:\n",
    "    #try 2\n",
    "    d=int(input(\"enter:\"))\n",
    "    g=6/d\n",
    "    print(g)\n",
    "except:\n",
    "    print(\"zero divis\")\n",
    "else:#only wen try execute\n",
    "    print(\"trrar\")"
   ]
  },
  {
   "cell_type": "code",
   "execution_count": 4,
   "metadata": {},
   "outputs": [
    {
     "name": "stdout",
     "output_type": "stream",
     "text": [
      "enter:2\n",
      "3.0\n",
      "trrar\n",
      "dtgf\n"
     ]
    }
   ],
   "source": [
    "try:\n",
    "    #try 2\n",
    "    d=int(input(\"enter:\"))\n",
    "    g=6/d\n",
    "    print(g)\n",
    "except:\n",
    "    print(\"zero divis\")\n",
    "else:#only wen try execute\n",
    "    print(\"trrar\")\n",
    "finally:\n",
    "    print(\"dtgf\")"
   ]
  },
  {
   "cell_type": "code",
   "execution_count": 1,
   "metadata": {},
   "outputs": [
    {
     "name": "stdout",
     "output_type": "stream",
     "text": [
      "Overwriting deed.txt\n"
     ]
    }
   ],
   "source": [
    "%%writefile deed.txt\n",
    "abcd\n",
    "efgh\n",
    "ijkl\n",
    "mnop\n",
    "qrst\n",
    "uvwx\n",
    "yzab"
   ]
  },
  {
   "cell_type": "code",
   "execution_count": 6,
   "metadata": {},
   "outputs": [
    {
     "name": "stdout",
     "output_type": "stream",
     "text": [
      "['abcd\\n', 'efgh\\n', 'ijkl\\n', 'mnop\\n', 'qrst\\n', 'uvwx\\n', 'yzab\\n'] \n",
      "\n",
      "Successfully written\n"
     ]
    }
   ],
   "source": [
    "try:\n",
    "    myfile=open(\"deed.txt\")\n",
    "    myfile.seek(0)\n",
    "    l=myfile.readlines()\n",
    "    li=[]\n",
    "    for i in l:\n",
    "        li.append(i)\n",
    "    print(l,end=\" \")\n",
    "except:\n",
    "    print(\"The file is not responding\")\n",
    "finally:\n",
    "    print(\"\\n\\nSuccessfully written\")\n",
    "    "
   ]
  },
  {
   "cell_type": "code",
   "execution_count": 14,
   "metadata": {},
   "outputs": [],
   "source": [
    "color=['red','green','white','black','pink','yellow']\n",
    "file=open(\"newfile.txt\",'w+')\n",
    "for i in color:\n",
    "    file.write(i+\"\\n\")\n"
   ]
  },
  {
   "cell_type": "code",
   "execution_count": null,
   "metadata": {},
   "outputs": [],
   "source": []
  }
 ],
 "metadata": {
  "kernelspec": {
   "display_name": "Python 3",
   "language": "python",
   "name": "python3"
  },
  "language_info": {
   "codemirror_mode": {
    "name": "ipython",
    "version": 3
   },
   "file_extension": ".py",
   "mimetype": "text/x-python",
   "name": "python",
   "nbconvert_exporter": "python",
   "pygments_lexer": "ipython3",
   "version": "3.8.3"
  }
 },
 "nbformat": 4,
 "nbformat_minor": 4
}
