{
 "cells": [
  {
   "cell_type": "code",
   "execution_count": 1,
   "metadata": {},
   "outputs": [
    {
     "data": {
      "text/plain": [
       "'C:\\\\Machine Learning\\\\Python\\\\Assignment 1'"
      ]
     },
     "execution_count": 1,
     "metadata": {},
     "output_type": "execute_result"
    }
   ],
   "source": [
    "pwd"
   ]
  },
  {
   "cell_type": "code",
   "execution_count": 2,
   "metadata": {},
   "outputs": [
    {
     "name": "stdout",
     "output_type": "stream",
     "text": [
      "Enter a string: abcdefghi\n",
      "The middle characters of the string is: def\n"
     ]
    }
   ],
   "source": [
    "#1)Input a string of odd length(min. 9 characters),print a string made of the three middle characters from input string?\n",
    "str=input(\"Enter a string: \")\n",
    "l=int(len(str)/2)\n",
    "s=str[l-1:l+2]\n",
    "print(\"The middle characters of the string is: \"+s)"
   ]
  },
  {
   "cell_type": "code",
   "execution_count": 3,
   "metadata": {},
   "outputs": [
    {
     "name": "stdout",
     "output_type": "stream",
     "text": [
      "Enter the limit: 4\n",
      "The sum is:  10\n",
      "The average is:  2.5\n",
      "Enter the limit: 4\n",
      "The sum is:  10\n",
      "The average is:  2.5\n"
     ]
    }
   ],
   "source": [
    "#2)Calculate the sum and average of first n natural numbers?\n",
    "#By using for loop\n",
    "sum=0\n",
    "average=0\n",
    "n=int(input(\"Enter the limit: \"))\n",
    "for i in range(1,n+1):\n",
    "    sum=sum+i\n",
    "print(\"The sum is: \",sum)\n",
    "average=sum/n\n",
    "print(\"The average is: \",average)\n",
    "#By using while loop\n",
    "sum=0\n",
    "average=0\n",
    "i=0\n",
    "n=int(input(\"Enter the limit: \"))\n",
    "while i<=n:\n",
    "    sum=sum+i\n",
    "    i=i+1\n",
    "print(\"The sum is: \",sum)\n",
    "average=sum/n\n",
    "print(\"The average is: \",average)"
   ]
  },
  {
   "cell_type": "code",
   "execution_count": 47,
   "metadata": {},
   "outputs": [
    {
     "name": "stdout",
     "output_type": "stream",
     "text": [
      "No:1.2\n",
      "No:2.4\n",
      "No:4.5\n",
      "No:6.44\n",
      "No:7.8\n",
      "The list l is:  [1.2, 2.4, 4.5, 6.44, 7.8]\n",
      "Enter the limit: 3\n",
      "No:1.22\n",
      "No:4.56\n",
      "No:6.54\n",
      "The list l is:  [1.22, 4.56, 6.54]\n"
     ]
    }
   ],
   "source": [
    "#3)Accept list of 5 float numbers as input from user using loop and store values in a list?\n",
    "l=[]\n",
    "for i in range(0,5):\n",
    "    n=float(input(\"No:\"))\n",
    "    l.append(n)\n",
    "print(\"The list l is: \",l)\n",
    "#or\n",
    "l=[]\n",
    "limit=int(input(\"Enter the limit: \"))\n",
    "for i in range(0,limit):\n",
    "    n=float(input(\"No:\"))\n",
    "    l.append(n)\n",
    "print(\"The list l is: \",l)"
   ]
  },
  {
   "cell_type": "code",
   "execution_count": 48,
   "metadata": {},
   "outputs": [
    {
     "name": "stdout",
     "output_type": "stream",
     "text": [
      "1 \n",
      "1 2 \n",
      "1 2 3 \n",
      "1 2 3 4 \n",
      "1 2 3 4 5 \n",
      "\n",
      "5 4 3 2 1 \n",
      "4 3 2 1 \n",
      "3 2 1 \n",
      "2 1 \n",
      "1 \n"
     ]
    }
   ],
   "source": [
    "# 4)Print the pattern?\n",
    "#a)\n",
    "for i in range(1,6):\n",
    "    for j in range(1,i+1):\n",
    "        print(j,end=' ')\n",
    "    print()\n",
    "print()\n",
    "#b)\n",
    "for i in range(5,0,-1):\n",
    "    for j in range(i,0,-1):\n",
    "        print(j,end=' ')\n",
    "    print()\n"
   ]
  },
  {
   "cell_type": "code",
   "execution_count": 6,
   "metadata": {},
   "outputs": [
    {
     "name": "stdout",
     "output_type": "stream",
     "text": [
      "Enter a number: 22345\n",
      "Total number of digits in the number are:  5\n"
     ]
    }
   ],
   "source": [
    "#5)Input a number,count and print the total number of digits in that no. using while loop?\n",
    "n=int(input(\"Enter a number: \"))\n",
    "count=0\n",
    "while n!=0:\n",
    "    count=count+1\n",
    "    n=n//10\n",
    "print(\"Total number of digits in the number are: \",count)"
   ]
  },
  {
   "cell_type": "code",
   "execution_count": 7,
   "metadata": {},
   "outputs": [
    {
     "name": "stdout",
     "output_type": "stream",
     "text": [
      "[6, 12, 18]\n",
      "[4, 12, 20, 28]\n",
      "[6, 12, 18, 4, 12, 20, 28]\n"
     ]
    }
   ],
   "source": [
    "#6)Given 2 lists.Create third list by picking odd index from 1st list and even index of seond list?\n",
    "l1=[3,6,9,12,15,18,21]\n",
    "l2=[4,8,12,16,20,24,28]\n",
    "l3=[]\n",
    "s=l1[1::2]\n",
    "p=l2[0::2]\n",
    "print(s)\n",
    "print(p)\n",
    "l3=s+p\n",
    "print(l3)\n"
   ]
  },
  {
   "cell_type": "code",
   "execution_count": 13,
   "metadata": {},
   "outputs": [
    {
     "name": "stdout",
     "output_type": "stream",
     "text": [
      "[8, 7, 2, -1, 0]\n",
      "The smalest number is -1\n",
      "\n",
      "The smalest number is -5\n"
     ]
    }
   ],
   "source": [
    "#7)Program to get the smallest number from a list?\n",
    "list=[]\n",
    "list.append(8)\n",
    "list.append(7)\n",
    "list.append(2)\n",
    "list.append(-1)\n",
    "list.append(0)\n",
    "print(list)\n",
    "n=len(list)\n",
    "smallest=list[0]\n",
    "for i in range(1,n):\n",
    "    if(list[i]<smallest):\n",
    "        smallest=list[i]\n",
    "print(\"The smalest number is\",smallest)\n",
    "print()\n",
    "#or\n",
    "list=[2,1,-5,7,4]\n",
    "n=len(list)\n",
    "smallest=list[0]\n",
    "for i in range(1,n):\n",
    "    if(list[i]<smallest):\n",
    "        smallest=list[i]\n",
    "print(\"The smalest number is\",smallest)\n",
    "\n"
   ]
  },
  {
   "cell_type": "code",
   "execution_count": 3,
   "metadata": {},
   "outputs": [
    {
     "name": "stdout",
     "output_type": "stream",
     "text": [
      "50 40 30 20 10 "
     ]
    }
   ],
   "source": [
    "#8)Reverse the following list using for loop and range?\n",
    "list1=[10,20,30,40,50]\n",
    "l=len(list1)\n",
    "for i in range(l,0,-1):\n",
    "    print(list1[i-1],end=' ')\n"
   ]
  },
  {
   "cell_type": "code",
   "execution_count": null,
   "metadata": {},
   "outputs": [],
   "source": []
  }
 ],
 "metadata": {
  "kernelspec": {
   "display_name": "Python 3",
   "language": "python",
   "name": "python3"
  },
  "language_info": {
   "codemirror_mode": {
    "name": "ipython",
    "version": 3
   },
   "file_extension": ".py",
   "mimetype": "text/x-python",
   "name": "python",
   "nbconvert_exporter": "python",
   "pygments_lexer": "ipython3",
   "version": "3.8.3"
  }
 },
 "nbformat": 4,
 "nbformat_minor": 4
}
