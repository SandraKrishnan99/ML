{
 "cells": [
  {
   "cell_type": "code",
   "execution_count": 1,
   "metadata": {},
   "outputs": [
    {
     "data": {
      "text/plain": [
       "'C:\\\\Machine Learning\\\\Python\\\\Assignment4'"
      ]
     },
     "execution_count": 1,
     "metadata": {},
     "output_type": "execute_result"
    }
   ],
   "source": [
    "pwd"
   ]
  },
  {
   "cell_type": "markdown",
   "metadata": {},
   "source": [
    "Q1)Create a txt file, enter multiple lines of text. read this file line by line and store\n",
    "it into a list. Apply exception handling technique\n",
    "\n",
    "Ans)\n"
   ]
  },
  {
   "cell_type": "code",
   "execution_count": 18,
   "metadata": {},
   "outputs": [
    {
     "name": "stdout",
     "output_type": "stream",
     "text": [
      "Overwriting frst.txt\n"
     ]
    }
   ],
   "source": [
    "%%writefile frst.txt\n",
    "Line number 1\n",
    "Line number 2\n",
    "Line number 3\n",
    "Line number 4\n",
    "Line number 5\n",
    "Line number 6\n",
    "Line number 7"
   ]
  },
  {
   "cell_type": "code",
   "execution_count": 19,
   "metadata": {},
   "outputs": [
    {
     "name": "stdout",
     "output_type": "stream",
     "text": [
      "['Line number 1\\n', 'Line number 2\\n', 'Line number 3\\n', 'Line number 4\\n', 'Line number 5\\n', 'Line number 6\\n', 'Line number 7\\n']\n",
      "Successfully completed the task\n"
     ]
    }
   ],
   "source": [
    "try:\n",
    "    myfile=open(\"frst.txt\")\n",
    "except Exception as error:\n",
    "    print(\"Raised some problem with the file\",error)\n",
    "else:\n",
    "    myfile.seek(0)\n",
    "    s=myfile.readlines()\n",
    "    l=[]\n",
    "    for i in s:\n",
    "        l.append(i)\n",
    "    print(l)\n",
    "finally:\n",
    "    print(\"Successfully completed the task\")"
   ]
  },
  {
   "cell_type": "markdown",
   "metadata": {},
   "source": [
    "Q2) Write a Python program to write below list content to a file. Apply exception\n",
    "handling technique\n",
    "\n",
    "color = ['Red', 'Green', 'White', 'Black', 'Pink', 'Yellow']\n",
    "\n",
    "Ans)"
   ]
  },
  {
   "cell_type": "code",
   "execution_count": 50,
   "metadata": {},
   "outputs": [
    {
     "name": "stdout",
     "output_type": "stream",
     "text": [
      "Red\n",
      "Green\n",
      "White\n",
      "Black\n",
      "Pink\n",
      "Yellow\n",
      "\n",
      "Completed Task\n"
     ]
    }
   ],
   "source": [
    "color = ['Red','Green','White','Black','Pink','Yellow']\n",
    "try:\n",
    "    file2=open(\"second.txt\",\"w+\")\n",
    "    for i in color:\n",
    "        file2.writelines(i+\"\\n\")\n",
    "except Exception as error:\n",
    "    print(\"Not Successfull\",error)\n",
    "else:\n",
    "        file2.seek(0)\n",
    "        print(file2.read())\n",
    "finally:\n",
    "    print(\"Completed Task\")"
   ]
  },
  {
   "cell_type": "markdown",
   "metadata": {},
   "source": [
    "Q3)Create a txt file, enter multiple lines of text. remove newline characters from\n",
    "created file and print as a list. Apply exception handling techniques wherever\n",
    "possible\n"
   ]
  },
  {
   "cell_type": "code",
   "execution_count": 1,
   "metadata": {},
   "outputs": [
    {
     "name": "stdout",
     "output_type": "stream",
     "text": [
      "Overwriting third.txt\n"
     ]
    }
   ],
   "source": [
    "%%writefile third.txt\n",
    "This is 1\n",
    "This is 2\n",
    "This is 3\n",
    "This is "
   ]
  },
  {
   "cell_type": "code",
   "execution_count": 49,
   "metadata": {},
   "outputs": [
    {
     "name": "stdout",
     "output_type": "stream",
     "text": [
      "Not Successfull [Errno 2] No such file or directory: 'thierd.txt'\n",
      "Task Overcome\n"
     ]
    }
   ],
   "source": [
    "try:\n",
    "    file3=open(\"third.txt\")\n",
    "except Exception as error:\n",
    "    print(\"Not Successfull\",error)\n",
    "else:\n",
    "    l=[]\n",
    "    file3.seek(0)\n",
    "    f=file3.readlines()\n",
    "    for i in f:\n",
    "        l.append(i.strip())\n",
    "    print(l)\n",
    "finally:\n",
    "    print(\"Task Overcome\")"
   ]
  },
  {
   "cell_type": "markdown",
   "metadata": {},
   "source": [
    "Q4)create a testfile1.txt file, enter multiple lines of text . Now copy contents of\n",
    "testfile1.txt to new file testfile22.txt. Apply exception handling techniques\n",
    "wherever possible"
   ]
  },
  {
   "cell_type": "code",
   "execution_count": 40,
   "metadata": {},
   "outputs": [
    {
     "name": "stdout",
     "output_type": "stream",
     "text": [
      "Overwriting testfile1.txt\n"
     ]
    }
   ],
   "source": [
    "%%writefile testfile1.txt\n",
    "Line 1\n",
    "Line 2\n",
    "Line 3\n",
    "Line 4"
   ]
  },
  {
   "cell_type": "code",
   "execution_count": 54,
   "metadata": {},
   "outputs": [
    {
     "name": "stdout",
     "output_type": "stream",
     "text": [
      "Line 1\n",
      "Line 2\n",
      "Line 3\n",
      "Line 4\n",
      "\n",
      "Completed task\n"
     ]
    }
   ],
   "source": [
    "try:\n",
    "    file4=open('testfile1.txt')\n",
    "    file4.seek(0)\n",
    "    f=file4.read()\n",
    "except Exception as error:\n",
    "    print(\"File not found\",error)\n",
    "else:\n",
    "    try:\n",
    "        file5=open('testfile22.txt','w+')\n",
    "        file5.write(f)\n",
    "        file5.seek(0)\n",
    "        print(file5.read())\n",
    "    except Exception as error:\n",
    "        print(\"Problem Ocuucred\",error)\n",
    "finally:\n",
    "    print(\"Completed task\")"
   ]
  },
  {
   "cell_type": "code",
   "execution_count": null,
   "metadata": {},
   "outputs": [],
   "source": []
  }
 ],
 "metadata": {
  "kernelspec": {
   "display_name": "Python 3",
   "language": "python",
   "name": "python3"
  },
  "language_info": {
   "codemirror_mode": {
    "name": "ipython",
    "version": 3
   },
   "file_extension": ".py",
   "mimetype": "text/x-python",
   "name": "python",
   "nbconvert_exporter": "python",
   "pygments_lexer": "ipython3",
   "version": "3.8.3"
  }
 },
 "nbformat": 4,
 "nbformat_minor": 4
}
