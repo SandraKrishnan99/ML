{
 "cells": [
  {
   "cell_type": "code",
   "execution_count": 1,
   "metadata": {},
   "outputs": [
    {
     "data": {
      "text/plain": [
       "'C:\\\\Machine Learning\\\\Python\\\\Assignment 2'"
      ]
     },
     "execution_count": 1,
     "metadata": {},
     "output_type": "execute_result"
    }
   ],
   "source": [
    "pwd"
   ]
  },
  {
   "cell_type": "code",
   "execution_count": 6,
   "metadata": {},
   "outputs": [
    {
     "name": "stdout",
     "output_type": "stream",
     "text": [
      "The modified tuple is: (11, [222, 33], 44, 55)\n"
     ]
    }
   ],
   "source": [
    "#1)Modify the first item(22) of a list inside a following tuple to 222?\n",
    "#tuple1=(11,[22,33],44,55)\n",
    "#Ans)\n",
    "\n",
    "tuple1=(11,[22,33],44,55)\n",
    "tuple1[1][0]=222\n",
    "print(\"The modified tuple is:\",tuple1)"
   ]
  },
  {
   "cell_type": "code",
   "execution_count": 7,
   "metadata": {},
   "outputs": [
    {
     "name": "stdout",
     "output_type": "stream",
     "text": [
      "The no. of times 50 occured in the given tuple is: 2\n"
     ]
    }
   ],
   "source": [
    "#2)Count the number of occurences of item 50 from a tuple?\n",
    "#tuple1=(50,10,60,70,50)\n",
    "#Ans)\n",
    "\n",
    "tuple1=(50,10,60,70,50)\n",
    "c=0\n",
    "for i in tuple1:\n",
    "    if i==50:\n",
    "        c=c+1\n",
    "print(\"The no. of times 50 occured in the given tuple is:\",c)\n",
    "        \n"
   ]
  },
  {
   "cell_type": "code",
   "execution_count": 9,
   "metadata": {},
   "outputs": [
    {
     "name": "stdout",
     "output_type": "stream",
     "text": [
      "The list to be converted: [1, 2, 3, 4, 12, 44]\n",
      "The converted tuple is: (1, 2, 3, 4, 12, 44)\n"
     ]
    }
   ],
   "source": [
    "#3)Write a python program to convert a list to tuple?\n",
    "#Ans)\n",
    "\n",
    "list1=[1,2,3,4,12,44]\n",
    "print(\"The list to be converted:\",list1)\n",
    "tuple1=tuple(list1)\n",
    "print(\"The converted tuple is:\",tuple1)"
   ]
  },
  {
   "cell_type": "code",
   "execution_count": 3,
   "metadata": {},
   "outputs": [
    {
     "name": "stdout",
     "output_type": "stream",
     "text": [
      "The new set is: {70, 40, 10, 50, 20, 60, 30}\n"
     ]
    }
   ],
   "source": [
    "#4)Returns a new set with all items from both sets by removing duplicates?\n",
    "#set1={10,20,30,40,50}\n",
    "#set2={30,40,50,60,70}\n",
    "#Ans)\n",
    "set1={10,20,30,40,50}\n",
    "set2={30,40,50,60,70}\n",
    "set3=set1|set2\n",
    "print(\"The new set is:\",set3)\n"
   ]
  },
  {
   "cell_type": "code",
   "execution_count": 2,
   "metadata": {},
   "outputs": [
    {
     "name": "stdout",
     "output_type": "stream",
     "text": [
      "{'Ten': 10, 'Twenty': 20, 'Thirty': 30, 'Forty': 40, 'Fifty': 50}\n"
     ]
    }
   ],
   "source": [
    "#5)Merge following two python dictionaries into one?\n",
    "#dict1={'Ten':10,'Twenty':20,'Thirty':30}\n",
    "#dict2={'Thirty':30,Forty':40,'Fifty':50}\n",
    "dict1={'Ten':10,'Twenty':20,'Thirty':30}\n",
    "dict2={'Thirty':30,'Forty':40,'Fifty':50}\n",
    "dict3=dict1.copy()\n",
    "dict3.update(dict2)\n",
    "print(dict3)"
   ]
  },
  {
   "cell_type": "code",
   "execution_count": 13,
   "metadata": {},
   "outputs": [
    {
     "name": "stdout",
     "output_type": "stream",
     "text": [
      "The updated Dictionary is: {'em1': {'name': 'John', 'salary': 7500}, 'em2': {'name': 'Emma', 'salary': 8000}, 'em3': {'name': 'Brad', 'salary': 8500}}\n"
     ]
    }
   ],
   "source": [
    "#6)Given a python dictionary,Change Brad's salary to 8500\n",
    "#sampleDict={\n",
    "#    'em1':{'name':'John','salary':7500},\n",
    "#     'em2':{'name':'Emma','salary':8000},\n",
    "#     'em3':{'name':'Brad','salary':6500},\n",
    "#           }\n",
    "#Ans)\n",
    "\n",
    "sampleDict={\n",
    "    'em1':{'name':'John','salary':7500},\n",
    "    'em2':{'name':'Emma','salary':8000},\n",
    "    'em3':{'name':'Brad','salary':6500},\n",
    "           }\n",
    "sampleDict['em3']['salary']=8500\n",
    "print(\"The updated Dictionary is:\",sampleDict)"
   ]
  },
  {
   "cell_type": "code",
   "execution_count": 2,
   "metadata": {},
   "outputs": [
    {
     "data": {
      "text/plain": [
       "{'name': 'Kelly', 'age': 25, 'Salary': 8000, 'Location': 'New York'}"
      ]
     },
     "execution_count": 2,
     "metadata": {},
     "output_type": "execute_result"
    }
   ],
   "source": [
    "#7)Rename key city to location in the following dictionary?\n",
    "#sa={\n",
    "#    \"name\":\"Kelly\",\n",
    "#    \"age\":25,\n",
    "#   \"Salary\":8000,\n",
    "#    \"city\":\"New work\"\n",
    "#  }\n",
    "#Ans)\n",
    "\n",
    "sampleDict={\n",
    "    \"name\":\"Kelly\",\n",
    "    \"age\":25,\n",
    "    \"Salary\":8000,\n",
    "    \"city\":\"New York\"\n",
    "   }\n",
    "sampleDict.pop(\"city\")\n",
    "sampleDict\n",
    "sampleDict[\"Location\"]=\"New York\"\n",
    "sampleDict"
   ]
  },
  {
   "cell_type": "code",
   "execution_count": null,
   "metadata": {},
   "outputs": [],
   "source": []
  }
 ],
 "metadata": {
  "kernelspec": {
   "display_name": "Python 3",
   "language": "python",
   "name": "python3"
  },
  "language_info": {
   "codemirror_mode": {
    "name": "ipython",
    "version": 3
   },
   "file_extension": ".py",
   "mimetype": "text/x-python",
   "name": "python",
   "nbconvert_exporter": "python",
   "pygments_lexer": "ipython3",
   "version": "3.8.3"
  }
 },
 "nbformat": 4,
 "nbformat_minor": 4
}
