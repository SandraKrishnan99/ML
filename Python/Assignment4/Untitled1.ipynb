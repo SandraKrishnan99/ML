{
 "cells": [
  {
   "cell_type": "code",
   "execution_count": 1,
   "metadata": {},
   "outputs": [
    {
     "name": "stdout",
     "output_type": "stream",
     "text": [
      "Overwriting frst.txt\n"
     ]
    }
   ],
   "source": [
    "%%writefile frst.txt\n",
    "Line number 1\n",
    "Line number 2\n",
    "Line number 3\n",
    "Line number 4\n",
    "Line number 5\n",
    "Line number 6\n",
    "Line number 7"
   ]
  },
  {
   "cell_type": "code",
   "execution_count": 7,
   "metadata": {},
   "outputs": [
    {
     "name": "stdout",
     "output_type": "stream",
     "text": [
      "['Line number 1\\n', 'Line number 2\\n', 'Line number 3\\n', 'Line number 4\\n', 'Line number 5\\n', 'Line number 6\\n', 'Line number 7\\n']\n",
      "Successfully completed the task\n"
     ]
    }
   ],
   "source": [
    "try:\n",
    "    myfile=open(\"frst.txt\")\n",
    "except:\n",
    "    print(\"Raised some problem with the file\")\n",
    "else:\n",
    "    myfile.seek(0)\n",
    "    s=myfile.readlines()\n",
    "    l=[]\n",
    "    for i in s:\n",
    "        l.append(i)\n",
    "    print(l)\n",
    "finally:\n",
    "    print(\"Successfully completed the task\")"
   ]
  },
  {
   "cell_type": "code",
   "execution_count": null,
   "metadata": {},
   "outputs": [],
   "source": []
  }
 ],
 "metadata": {
  "kernelspec": {
   "display_name": "Python 3",
   "language": "python",
   "name": "python3"
  },
  "language_info": {
   "codemirror_mode": {
    "name": "ipython",
    "version": 3
   },
   "file_extension": ".py",
   "mimetype": "text/x-python",
   "name": "python",
   "nbconvert_exporter": "python",
   "pygments_lexer": "ipython3",
   "version": "3.8.3"
  }
 },
 "nbformat": 4,
 "nbformat_minor": 4
}
