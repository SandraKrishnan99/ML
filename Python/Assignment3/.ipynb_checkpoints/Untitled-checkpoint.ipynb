{
 "cells": [
  {
   "cell_type": "code",
   "execution_count": 1,
   "metadata": {},
   "outputs": [
    {
     "data": {
      "text/plain": [
       "'C:\\\\Machine Learning\\\\Python\\\\Assignment3'"
      ]
     },
     "execution_count": 1,
     "metadata": {},
     "output_type": "execute_result"
    }
   ],
   "source": [
    "pwd"
   ]
  },
  {
   "cell_type": "code",
   "execution_count": 3,
   "metadata": {},
   "outputs": [
    {
     "name": "stdout",
     "output_type": "stream",
     "text": [
      "19 11\n"
     ]
    }
   ],
   "source": [
    "#1)Write  function calculation() such that it can accept two variables as arguments and calculate the addition and substraction of it.\n",
    "#And also it must return both substraction and addition in a single return call?\n",
    "#Ans)\n",
    "\n",
    "def calculation(n1,n2):\n",
    "    sum=n1+n2\n",
    "    dif=n1-n2\n",
    "    return sum,dif\n",
    "sum,diff=calculation(15,4)\n",
    "print(sum,diff)\n"
   ]
  },
  {
   "cell_type": "code",
   "execution_count": 1,
   "metadata": {},
   "outputs": [
    {
     "name": "stdout",
     "output_type": "stream",
     "text": [
      "NAME: Ben SALARY: 3409\n",
      "NAME: Ben SALARY: 9000\n"
     ]
    }
   ],
   "source": [
    "#2)Create a function showEmployee() in such a way that it should accept employee name,and its salary and display both,\n",
    "#and if salary is missing in function call it should show it as 9000?\n",
    "#Ans)\n",
    "\n",
    "def showEmployee(n,s=9000):\n",
    "    print(\"NAME:\",n,\"SALARY:\",s)\n",
    "res1=showEmployee(\"Ben\",3409)\n",
    "res2=showEmployee(\"Ben\")\n"
   ]
  },
  {
   "cell_type": "code",
   "execution_count": 2,
   "metadata": {},
   "outputs": [
    {
     "name": "stdout",
     "output_type": "stream",
     "text": [
      "Word is awesome\n",
      "{'a': 1, 'w': 1, 'e': 2, 's': 1, 'o': 1, 'm': 1}\n"
     ]
    }
   ],
   "source": [
    "#3)Write a function called multipleLetterCount.This function takes in one parametre(a string) and \n",
    "#returns a dictionary with the keys being the letters and the value being the count of the letter?\n",
    "#Example output:\n",
    "#multipleLetterCount('awesome')\n",
    "#Ans)\n",
    "\n",
    "di={}\n",
    "def multipleLetterCount(s):\n",
    "    print(\"Word is\",s)\n",
    "    for i in s:\n",
    "        if i in di:\n",
    "            di[i]+=1\n",
    "        else:\n",
    "            di[i]=1\n",
    "    return di\n",
    "res=multipleLetterCount(\"awesome\")\n",
    "print(res)"
   ]
  },
  {
   "cell_type": "code",
   "execution_count": null,
   "metadata": {},
   "outputs": [],
   "source": []
  }
 ],
 "metadata": {
  "kernelspec": {
   "display_name": "Python 3",
   "language": "python",
   "name": "python3"
  },
  "language_info": {
   "codemirror_mode": {
    "name": "ipython",
    "version": 3
   },
   "file_extension": ".py",
   "mimetype": "text/x-python",
   "name": "python",
   "nbconvert_exporter": "python",
   "pygments_lexer": "ipython3",
   "version": "3.8.3"
  }
 },
 "nbformat": 4,
 "nbformat_minor": 4
}
